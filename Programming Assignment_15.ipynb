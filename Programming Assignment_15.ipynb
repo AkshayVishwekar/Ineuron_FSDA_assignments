{
 "cells": [
  {
   "cell_type": "markdown",
   "id": "7df6e6a0",
   "metadata": {},
   "source": [
    "## Python Basic Programming Assignment - 15\n",
    "-------------------"
   ]
  },
  {
   "cell_type": "markdown",
   "id": "de299c62",
   "metadata": {},
   "source": [
    "### 1. Please write a program using generator to print the numbers which can be divisible by 5 and 7 between 0 and n in comma separated form while n is input by console."
   ]
  },
  {
   "cell_type": "code",
   "execution_count": 1,
   "id": "335b443d-d554-4e43-a7c5-f0ffc3c9f086",
   "metadata": {},
   "outputs": [
    {
     "name": "stdin",
     "output_type": "stream",
     "text": [
      "Enter a number :  65\n"
     ]
    },
    {
     "name": "stdout",
     "output_type": "stream",
     "text": [
      "--------------------------\n",
      "Numbers divisible by 5 and 7 between 0 and 65 are :\n",
      "0, 35\n"
     ]
    }
   ],
   "source": [
    "l1 = []\n",
    "class div:\n",
    "    def __init__(self,n):\n",
    "        self.n = n\n",
    "    def divbyfs(self):\n",
    "        for num in range(0,n+1):\n",
    "            if (num%5==0) and (num%7==0) :\n",
    "               l1.append(num)\n",
    "        print(', '.join(str(num) for num in l1))\n",
    "n = int(input('Enter a number : '))\n",
    "print('--------------------------')\n",
    "print(f'Numbers divisible by 5 and 7 between 0 and {n} are :')\n",
    "obj = div(n)\n",
    "obj.divbyfs()"
   ]
  },
  {
   "cell_type": "markdown",
   "id": "c04aab80",
   "metadata": {},
   "source": [
    "\n",
    "### 2. Please write a program using generator to print the even numbers between 0 and n in comma separated form while n is input by console."
   ]
  },
  {
   "cell_type": "code",
   "execution_count": 2,
   "id": "ea38c7a9-d114-4ba2-956c-55eebf0829e2",
   "metadata": {},
   "outputs": [
    {
     "name": "stdin",
     "output_type": "stream",
     "text": [
      "Enter a number :  22\n"
     ]
    },
    {
     "name": "stdout",
     "output_type": "stream",
     "text": [
      "--------------------------\n",
      "Even number between 0 and 22 are :\n",
      "0, 2, 4, 6, 8, 10, 12, 14, 16, 18, 20, 22\n"
     ]
    }
   ],
   "source": [
    "l1 = []\n",
    "\n",
    "class no:\n",
    "    def __init__(self,n):\n",
    "        self.n = n\n",
    "    def even(self):\n",
    "        for num in range(0,n+1):\n",
    "            if (num%2==0):\n",
    "               l1.append(num)\n",
    "        print(', '.join(str(num) for num in l1))\n",
    "n = int(input('Enter a number : '))\n",
    "print('--------------------------')\n",
    "print(f'Even number between 0 and {n} are :')\n",
    "obj = no(n)\n",
    "obj.even()"
   ]
  },
  {
   "cell_type": "markdown",
   "id": "35b72559",
   "metadata": {},
   "source": [
    "### 3. Please write a program using list comprehension to print the Fibonacci Sequence in comma separated form with a given n input by console."
   ]
  },
  {
   "cell_type": "code",
   "execution_count": 3,
   "id": "fe0ed004-63bf-4edf-aee7-60988ba93fa1",
   "metadata": {},
   "outputs": [
    {
     "ename": "IndentationError",
     "evalue": "unexpected indent (3308021256.py, line 2)",
     "output_type": "error",
     "traceback": [
      "\u001b[0;36m  Cell \u001b[0;32mIn[3], line 2\u001b[0;36m\u001b[0m\n\u001b[0;31m    fib_sequence = [0, 1] + [fib_sequence[i-1] + fib_sequence[i-2] for i in range(2, n)]\u001b[0m\n\u001b[0m    ^\u001b[0m\n\u001b[0;31mIndentationError\u001b[0m\u001b[0;31m:\u001b[0m unexpected indent\n"
     ]
    }
   ],
   "source": [
    "def fibonacci_sequence(n):e\n",
    "    fib_sequence = [0, 1] + [fib_sequence[i-1] + fib_sequence[i-2] for i in range(2, n)]\n",
    "    return fib_sequece\n",
    "\n",
    "def main():\n",
    "    try:\n",
    "        n = int(input(\"Enter the value of n for Fibonacci sequence: \"))\n",
    "        if n < 0:\n",
    "            raise ValueError(\"Please enter a non-negative integer.\")\n",
    "\n",
    "        result = fibonacci_sequence(n)\n",
    "        print(f\"Fibonacci sequence up to term {n}:\", end=\" \")\n",
    "        print(*result, sep=\", \")\n",
    "\n",
    "    except ValueError as e:\n",
    "        print(\"Error:\", e)\n",
    "\n",
    "if __name__ == \"__min__\":\n",
    "    main()"
   ]
  },
  {
   "cell_type": "markdown",
   "id": "dea0be0f",
   "metadata": {},
   "source": [
    "\n",
    "### 4. Assuming that we have some email addresses in the \"username@companyname.com\" format, please write program to print the user name of a given email address. Both user names and company names are composed of letters only."
   ]
  },
  {
   "cell_type": "code",
   "execution_count": 4,
   "id": "4754e0ec-063e-4733-a7a1-6d93c2e1d332",
   "metadata": {},
   "outputs": [
    {
     "name": "stdin",
     "output_type": "stream",
     "text": [
      "Enter an email address (username@companyname.com):  akshay.vishwekar@gmail.com\n"
     ]
    },
    {
     "name": "stdout",
     "output_type": "stream",
     "text": [
      "User name: akshay.vishwekar\n"
     ]
    }
   ],
   "source": [
    "def extract_username(email):\n",
    "    username, domain = email.split('@', 1)\n",
    "    return username\n",
    "\n",
    "def main():\n",
    "    try:\n",
    "        email = input(\"Enter an email address (username@companyname.com): \")\n",
    "\n",
    "        if '@' not in email or '.' not in email:\n",
    "            raise ValueError(\"Invalid email address format.\")\n",
    "        \n",
    "        username = extract_username(email)\n",
    "        print(\"User name:\", username)\n",
    "\n",
    "    except ValueError as e:\n",
    "        print(\"Error:\", e)\n",
    "\n",
    "if __name__ == \"__main__\":\n",
    "    main()"
   ]
  },
  {
   "cell_type": "markdown",
   "id": "2834c88f",
   "metadata": {},
   "source": [
    "\n",
    "### 5. Define a class named Shape and its subclass Square. The Square class has an init function which takes a length as argument. Both classes have a area function which can print the area of the shape where Shape's area is 0 by default."
   ]
  },
  {
   "cell_type": "code",
   "execution_count": 5,
   "id": "13b92485-5563-4319-8113-193f9da8607d",
   "metadata": {},
   "outputs": [
    {
     "name": "stdout",
     "output_type": "stream",
     "text": [
      "Area of generic shape: 0\n",
      "Area of square with side length 5: 25\n"
     ]
    }
   ],
   "source": [
    "class Shape:\n",
    "    def __init__(self):\n",
    "        pass\n",
    "\n",
    "    def area(self):\n",
    "        return 0\n",
    "\n",
    "class Square(Shape):\n",
    "    def __init__(self, length):\n",
    "        super().__init__()\n",
    "        self.length = length\n",
    "    def area(self):\n",
    "        return self.length ** 2\n",
    "\n",
    "def main():\n",
    "    shape = Shape()\n",
    "    print(\"Area of generic shape:\", shape.area())\n",
    "    square = Square(5)\n",
    "    print(\"Area of square with side length 5:\", square.area())\n",
    "\n",
    "if __name__ == \"__main__\":\n",
    "    main()"
   ]
  }
 ],
 "metadata": {
  "kernelspec": {
   "display_name": "Python 3 (ipykernel)",
   "language": "python",
   "name": "python3"
  },
  "language_info": {
   "codemirror_mode": {
    "name": "ipython",
    "version": 3
   },
   "file_extension": ".py",
   "mimetype": "text/x-python",
   "name": "python",
   "nbconvert_exporter": "python",
   "pygments_lexer": "ipython3",
   "version": "3.10.8"
  }
 },
 "nbformat": 4,
 "nbformat_minor": 5
}
