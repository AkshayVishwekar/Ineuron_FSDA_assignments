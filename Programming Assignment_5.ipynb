{
 "cells": [
  {
   "cell_type": "markdown",
   "id": "4ac9602a",
   "metadata": {},
   "source": [
    "## Python Basic Programming Assignment - 5\n",
    "--------------\n"
   ]
  },
  {
   "cell_type": "markdown",
   "id": "fdaeee06",
   "metadata": {},
   "source": [
    "### 1. Write a Python Program to Find LCM?"
   ]
  },
  {
   "cell_type": "code",
   "execution_count": 1,
   "id": "3a4e91d3-9c77-4129-95a8-48a7975138c2",
   "metadata": {},
   "outputs": [
    {
     "name": "stdin",
     "output_type": "stream",
     "text": [
      "Enter first number:  802\n",
      "Enter second number:  503\n"
     ]
    },
    {
     "name": "stdout",
     "output_type": "stream",
     "text": [
      "LCM of 802 and 503 is: 403406\n"
     ]
    }
   ],
   "source": [
    "def lcm(a, b):\n",
    "    max_num = max(a, b)\n",
    "    multiple = max_num\n",
    "    while True:\n",
    "        if multiple % a == 0 and multiple % b == 0:\n",
    "            return multiple\n",
    "        multiple += max_num  \n",
    "num1 = int(input(\"Enter first number: \"))\n",
    "num2 = int(input(\"Enter second number: \"))\n",
    "result = lcm(num1, num2)\n",
    "print(f\"LCM of {num1} and {num2} is: {result}\")"
   ]
  },
  {
   "cell_type": "markdown",
   "id": "2f459cdf",
   "metadata": {},
   "source": [
    "### 2. Write a Python Program to Find HCF?"
   ]
  },
  {
   "cell_type": "code",
   "execution_count": 2,
   "id": "fef6a8a2-1eaf-408d-a275-2b481bea9b52",
   "metadata": {},
   "outputs": [
    {
     "name": "stdin",
     "output_type": "stream",
     "text": [
      "Enter first number :  55\n",
      "Enter second number :  57\n"
     ]
    },
    {
     "name": "stdout",
     "output_type": "stream",
     "text": [
      "-------------------------\n",
      "HCF of 55 and 57 is 1\n"
     ]
    }
   ],
   "source": [
    "num1 = int(input('Enter first number : '))\n",
    "num2 = int(input('Enter second number : '))\n",
    "fact1 = []\n",
    "fact2 = []\n",
    "print('-------------------------')\n",
    "for i in range(1,num1+1):\n",
    "    if num1%i == 0:\n",
    "        fact1.append(i)\n",
    "for i in range(1,num2+1):\n",
    "    if num2%i == 0:\n",
    "        fact2.append(i)\n",
    "hcf = max(set(fact1).intersection(set(fact2)))\n",
    "print(f'HCF of {num1} and {num2} is {hcf}')"
   ]
  },
  {
   "cell_type": "markdown",
   "id": "d2c29370",
   "metadata": {},
   "source": [
    "### 3. Write a Python Program to Convert Decimal to Binary, Octal and Hexadecimal?"
   ]
  },
  {
   "cell_type": "code",
   "execution_count": 3,
   "id": "2a10e76a-08e1-40e1-a030-10b2e74ca0df",
   "metadata": {},
   "outputs": [
    {
     "name": "stdin",
     "output_type": "stream",
     "text": [
      "Enter a decimal number:  1001\n"
     ]
    },
    {
     "name": "stdout",
     "output_type": "stream",
     "text": [
      "The binary representation of 1001 is: 1111101001\n",
      "The octal representation of 1001 is: 1751\n",
      "The hexadecimal representation of 1001 is: 3e9\n"
     ]
    }
   ],
   "source": [
    "def convert_to_decimal_nos(decimal_number):\n",
    "    binary_representation = bin(decimal_number)[2:]\n",
    "    octal_representation = oct(decimal_number)[2:]\n",
    "    hexadecimal_representation = hex(decimal_number)[2:]\n",
    "\n",
    "    return binary_representation, octal_representation, hexadecimal_representation\n",
    "\n",
    "decimal_number = int(input(\"Enter a decimal number: \"))\n",
    "\n",
    "binary_result, octal_result, hexadecimal_result = convert_to_decimal_nos(decimal_number)\n",
    "\n",
    "print(f\"The binary representation of {decimal_number} is: {binary_result}\")\n",
    "print(f\"The octal representation of {decimal_number} is: {octal_result}\")\n",
    "print(f\"The hexadecimal representation of {decimal_number} is: {hexadecimal_result}\")"
   ]
  },
  {
   "cell_type": "markdown",
   "id": "2a16c5fd",
   "metadata": {},
   "source": [
    "### 4. Write a Python Program To Find ASCII value of a character?"
   ]
  },
  {
   "cell_type": "code",
   "execution_count": 4,
   "id": "c8a673ec-1308-442e-be22-dc790ec80661",
   "metadata": {},
   "outputs": [
    {
     "name": "stdout",
     "output_type": "stream",
     "text": [
      "The ASCII value of the 'A' is 65\n"
     ]
    }
   ],
   "source": [
    "char = \"A\"\n",
    "ascii_value = ord(char)\n",
    "\n",
    "print(f\"The ASCII value of the '{char}' is {ascii_value}\")"
   ]
  },
  {
   "cell_type": "markdown",
   "id": "226778a0",
   "metadata": {},
   "source": [
    "### 5. Write a Python Program to Make a Simple Calculator with 4 basic mathematical operations?"
   ]
  },
  {
   "cell_type": "code",
   "execution_count": 5,
   "id": "0de8d139-12a7-4144-b780-adf103b68435",
   "metadata": {},
   "outputs": [
    {
     "name": "stdin",
     "output_type": "stream",
     "text": [
      "Enter the First Number 501\n",
      "Enter the operator ( +, -, *,/ ) : +\n",
      "Enter the Second Number 502\n"
     ]
    },
    {
     "name": "stdout",
     "output_type": "stream",
     "text": [
      "The output of 501.0 + 502.0 is : 1003.0\n"
     ]
    }
   ],
   "source": [
    "def add(x,y):\n",
    "    return x+y\n",
    "def subtract(x,y):\n",
    "    return x-y\n",
    "def multiply(x,y):\n",
    "    return x*y\n",
    "def divide(x,y):\n",
    "    if y!=0:\n",
    "        return x/y\n",
    "    else:\n",
    "        return \"Cannot perform the opration.\"\n",
    "num1 = float(input(\"Enter the First Number\"))\n",
    "operator = input(\"Enter the operator ( +, -, *,/ ) :\")\n",
    "num2 = float(input(\"Enter the Second Number\"))\n",
    "\n",
    "if operator == '+':\n",
    "    result=add(num1, num2)\n",
    "elif operator == '-':\n",
    "    result=subtract(num1, num2)    \n",
    "elif operator == '*':\n",
    "    result=multiply(num1, num2) \n",
    "elif operator == '/':\n",
    "    result=divide(num1, num2) \n",
    "else:\n",
    "    print(\"Invalid operators entered\")\n",
    "print(f\"The output of {num1} {operator} {num2} is : {result}\")    "
   ]
  }
 ],
 "metadata": {
  "kernelspec": {
   "display_name": "Python 3 (ipykernel)",
   "language": "python",
   "name": "python3"
  },
  "language_info": {
   "codemirror_mode": {
    "name": "ipython",
    "version": 3
   },
   "file_extension": ".py",
   "mimetype": "text/x-python",
   "name": "python",
   "nbconvert_exporter": "python",
   "pygments_lexer": "ipython3",
   "version": "3.10.8"
  }
 },
 "nbformat": 4,
 "nbformat_minor": 5
}
