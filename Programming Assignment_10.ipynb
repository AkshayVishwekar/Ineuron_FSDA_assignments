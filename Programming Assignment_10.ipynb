{
 "cells": [
  {
   "cell_type": "markdown",
   "id": "3dcb940f",
   "metadata": {},
   "source": [
    "## Python Basic Programming Assignment 10"
   ]
  },
  {
   "cell_type": "markdown",
   "id": "6720790a",
   "metadata": {},
   "source": [
    "### 1. Write a Python program to find sum of elements in list?"
   ]
  },
  {
   "cell_type": "code",
   "execution_count": 1,
   "id": "8a9c16ae-da5f-496b-8885-f093c981b180",
   "metadata": {},
   "outputs": [
    {
     "name": "stdout",
     "output_type": "stream",
     "text": [
      "Sum of numbers in list is 15\n"
     ]
    }
   ],
   "source": [
    "list1 = [1,2,3,4,5]\n",
    "\n",
    "sum = 0\n",
    "for i in list1:\n",
    "    sum = sum+i\n",
    "\n",
    "print('Sum of numbers in list is',sum)"
   ]
  },
  {
   "cell_type": "markdown",
   "id": "fe1137c3",
   "metadata": {},
   "source": [
    "### 2. Write a Python program to  Multiply all numbers in the list?"
   ]
  },
  {
   "cell_type": "code",
   "execution_count": 5,
   "id": "3f523b6b-e9d1-449e-9d0f-dd0202402cfa",
   "metadata": {},
   "outputs": [
    {
     "name": "stdout",
     "output_type": "stream",
     "text": [
      "Multiplication of given numbers is 55440\n"
     ]
    }
   ],
   "source": [
    "list1 = [7,8,9,10,11]\n",
    "\n",
    "prod = 1\n",
    "for i in list1:\n",
    "    prod = prod*i\n",
    "\n",
    "print('Multiplication of given numbers is',prod)"
   ]
  },
  {
   "cell_type": "markdown",
   "id": "078681db",
   "metadata": {},
   "source": [
    "### 3. Write a Python program to find smallest number in a list?"
   ]
  },
  {
   "cell_type": "code",
   "execution_count": 6,
   "id": "bf56ed84-6ffe-4e6a-a2f1-fc2086d38b95",
   "metadata": {},
   "outputs": [
    {
     "name": "stdout",
     "output_type": "stream",
     "text": [
      "The smallest number is: 1\n"
     ]
    }
   ],
   "source": [
    "numbers = [3, 6, 7, 1, 8, 9, 4, 5]\n",
    "\n",
    "smallest_number = numbers[0] \n",
    "\n",
    "for num in numbers:\n",
    "    if num < smallest_number:\n",
    "        smallest_number = num\n",
    "\n",
    "print(f\"The smallest number is: {smallest_number}\")"
   ]
  },
  {
   "cell_type": "markdown",
   "id": "12b04397",
   "metadata": {},
   "source": [
    "### 4. Write a Python program to find largest number in a list?"
   ]
  },
  {
   "cell_type": "code",
   "execution_count": 8,
   "id": "029dd894-b482-42d8-bfae-63f0ca899fa2",
   "metadata": {},
   "outputs": [
    {
     "name": "stdout",
     "output_type": "stream",
     "text": [
      "The highest number is: 9\n"
     ]
    }
   ],
   "source": [
    "numbers = [3, 6, 7, 1, 8, 9, 4, 5]\n",
    "\n",
    "greatest_number = numbers[0] \n",
    "\n",
    "for num in numbers:\n",
    "    if num > greatest_number:\n",
    "       greatest_number = num\n",
    "\n",
    "print(f\"The highest number is: {greatest_number}\")"
   ]
  },
  {
   "cell_type": "markdown",
   "id": "86442b51",
   "metadata": {},
   "source": [
    "### 5. Write a Python program to find second largest number in a list?"
   ]
  },
  {
   "cell_type": "code",
   "execution_count": 11,
   "id": "1646663c-b4b0-4999-b999-263d35675412",
   "metadata": {},
   "outputs": [
    {
     "name": "stdout",
     "output_type": "stream",
     "text": [
      "The second largest number is: 8\n"
     ]
    }
   ],
   "source": [
    "def find_second_largest(lst):\n",
    "    if len(lst) < 2:\n",
    "        return None  \n",
    "\n",
    "    max_value = lst[0]\n",
    "    for num in lst:\n",
    "        if num > max_value:\n",
    "            max_value = num\n",
    "\n",
    "    lst.remove(max_value)\n",
    "\n",
    "    second_largest = lst[0]\n",
    "    for num in lst:\n",
    "        if num > second_largest:\n",
    "            second_largest = num\n",
    "\n",
    "    return second_largest\n",
    "\n",
    "numbers = [3, 6, 7, 1, 8, 9, 4, 5]\n",
    "second_largest_number = find_second_largest(numbers)\n",
    "\n",
    "if second_largest_number is not None:\n",
    "    print(f\"The second largest number is: {second_largest_number}\")\n",
    "else:\n",
    "    print(\"The list does not have second largest number.\")"
   ]
  },
  {
   "cell_type": "markdown",
   "id": "10964d7d",
   "metadata": {},
   "source": [
    "### 6. Write a Python program to find N largest elements from a list?"
   ]
  },
  {
   "cell_type": "code",
   "execution_count": 12,
   "id": "bc29921b-0f9e-4d46-9c0a-71dd050e3596",
   "metadata": {},
   "outputs": [
    {
     "name": "stdin",
     "output_type": "stream",
     "text": [
      "Enter nth number: 3\n"
     ]
    },
    {
     "name": "stdout",
     "output_type": "stream",
     "text": [
      "The 3th largest number in the list is: 7\n"
     ]
    }
   ],
   "source": [
    "def find_nth_largest(lst, n):\n",
    "    if len(lst) < n:\n",
    "        return None  \n",
    "\n",
    "    unique_numbers = set(lst)  \n",
    "    if n > len(unique_numbers):\n",
    "        return None \n",
    "\n",
    "    sorted_unique_numbers = sorted(unique_numbers, reverse=True)\n",
    "\n",
    "    nth_largest = sorted_unique_numbers[n - 1]\n",
    "    return nth_largest\n",
    "\n",
    "numbers = [3, 6, 7, 1, 8, 9, 4, 5]\n",
    "n = int(input('Enter nth number:'))  \n",
    "\n",
    "nth_largest_number = find_nth_largest(numbers, n)\n",
    "\n",
    "if nth_largest_number is not None:\n",
    "    print(f\"The {n}th largest number in the list is: {nth_largest_number}\")\n",
    "else:\n",
    "    print(f\"The list does not have enough unique elements to find the {n}th largest number.\")"
   ]
  },
  {
   "cell_type": "markdown",
   "id": "2f1a1e98",
   "metadata": {},
   "source": [
    "### 7. Write a Python program to print even numbers in a list?"
   ]
  },
  {
   "cell_type": "code",
   "execution_count": 14,
   "id": "b6bb103b-e8bc-43c2-a3d8-434fdc6efc0c",
   "metadata": {},
   "outputs": [
    {
     "name": "stdout",
     "output_type": "stream",
     "text": [
      "Given list :  [3, 6, 7, 1, 8, 9, 4, 5]\n",
      "Even numbers in list are :  [6, 8, 4]\n"
     ]
    }
   ],
   "source": [
    "list1 = [3, 6, 7, 1, 8, 9, 4, 5]\n",
    "\n",
    "print('Given list : ',list1)\n",
    "even=[]\n",
    "\n",
    "for i in list1:\n",
    "   if i%2==0:\n",
    "       even.append(i)\n",
    "\n",
    "\n",
    "print('Even numbers in list are : ' , even)"
   ]
  },
  {
   "cell_type": "markdown",
   "id": "989bb324",
   "metadata": {},
   "source": [
    "### 8. Write a Python program to print odd numbers in a List?"
   ]
  },
  {
   "cell_type": "code",
   "execution_count": 16,
   "id": "079f2688-5595-48a0-9845-25b139a8908c",
   "metadata": {},
   "outputs": [
    {
     "name": "stdout",
     "output_type": "stream",
     "text": [
      "Given list :  [3, 6, 7, 1, 8, 9, 4, 5]\n",
      "Even numbers in list are :  [3, 7, 1, 9, 5]\n"
     ]
    }
   ],
   "source": [
    "list1 = [3, 6, 7, 1, 8, 9, 4, 5]\n",
    "\n",
    "print('Given list : ',list1)\n",
    "odd=[]\n",
    "\n",
    "for i in list1:\n",
    "   if i%2!=0:\n",
    "       odd.append(i)\n",
    "\n",
    "\n",
    "print('Even numbers in list are : ' , odd)"
   ]
  },
  {
   "cell_type": "markdown",
   "id": "185b7b13",
   "metadata": {},
   "source": [
    "### 9. Write a Python program to Remove empty List from List?"
   ]
  },
  {
   "cell_type": "code",
   "execution_count": 17,
   "id": "d2c6990b-cd9e-4392-8b4c-ea2789891373",
   "metadata": {},
   "outputs": [
    {
     "name": "stdout",
     "output_type": "stream",
     "text": [
      "The list after removing empty lists: [[1, 2, 3], [4, 5], [6, 7, 8]]\n"
     ]
    }
   ],
   "source": [
    "def remove_empty_lists(input_list):\n",
    "    return [lst for lst in input_list if lst]\n",
    "\n",
    "# Example usage\n",
    "nested_list = [[1, 2, 3], [], [4, 5], [], [6, 7, 8], []]\n",
    "\n",
    "filtered_list = remove_empty_lists(nested_list)\n",
    "\n",
    "print(f\"The list after removing empty lists: {filtered_list}\")"
   ]
  },
  {
   "cell_type": "markdown",
   "id": "278cfacc",
   "metadata": {},
   "source": [
    "### 10. Write a Python program to Cloning or Copying a list?"
   ]
  },
  {
   "cell_type": "code",
   "execution_count": 18,
   "id": "281229ea-9bb9-48b6-b048-b1a813ae1737",
   "metadata": {},
   "outputs": [
    {
     "name": "stdout",
     "output_type": "stream",
     "text": [
      "Original List: [3, 6, 7, 1, 8, 9, 4, 5]\n",
      "Cloned List: [3, 6, 7, 1, 8, 9, 4, 5]\n"
     ]
    }
   ],
   "source": [
    "original_list = [3, 6, 7, 1, 8, 9, 4, 5]\n",
    "\n",
    "cloned_list = original_list.copy()\n",
    "\n",
    "print(\"Original List:\", original_list)\n",
    "print(\"Cloned List:\", cloned_list)"
   ]
  },
  {
   "cell_type": "markdown",
   "id": "b359bedf",
   "metadata": {},
   "source": [
    "### 11. Write a Python program to Count occurrences of an element in a list?"
   ]
  }
 ],
 "metadata": {
  "kernelspec": {
   "display_name": "Python 3 (ipykernel)",
   "language": "python",
   "name": "python3"
  },
  "language_info": {
   "codemirror_mode": {
    "name": "ipython",
    "version": 3
   },
   "file_extension": ".py",
   "mimetype": "text/x-python",
   "name": "python",
   "nbconvert_exporter": "python",
   "pygments_lexer": "ipython3",
   "version": "3.10.8"
  }
 },
 "nbformat": 4,
 "nbformat_minor": 5
}
