{
 "cells": [
  {
   "cell_type": "markdown",
   "id": "b7231b20",
   "metadata": {},
   "source": [
    "# Python Basic Programming Assignment 12\n",
    "-------------"
   ]
  },
  {
   "cell_type": "markdown",
   "id": "d2ec324d",
   "metadata": {},
   "source": [
    "### 1. Write a Python program to Extract Unique values dictionary values?"
   ]
  },
  {
   "cell_type": "code",
   "execution_count": 1,
   "id": "7254acdc-b2f2-4143-8ad3-84ecb08b58f6",
   "metadata": {},
   "outputs": [
    {
     "name": "stdout",
     "output_type": "stream",
     "text": [
      "Unique values in list are: {1, 2, 3, 4, 6, 7, 8, 9, 11, 12, 13, 14, 16, 17, 19}\n"
     ]
    }
   ],
   "source": [
    "val_list=[]\n",
    "\n",
    "test_dict = {'A': [1, 2, 3, 4],\n",
    "             'B': [6, 7, 8, 9],\n",
    "             'C': [11, 12, 13, 14],\n",
    "             'D': [16, 17, 19]}\n",
    "\n",
    "for values in test_dict.values():\n",
    "    for element in values:\n",
    "      val_list.append(element)\n",
    "\n",
    "print('Unique values in list are:' ,set(val_list))"
   ]
  },
  {
   "cell_type": "markdown",
   "id": "203bcbc3",
   "metadata": {},
   "source": [
    "### 2. Write a Python program to find the sum of all items in a dictionary?"
   ]
  },
  {
   "cell_type": "code",
   "execution_count": 2,
   "id": "1c3fa0c5-1e14-4724-befa-0f5a422b70fb",
   "metadata": {},
   "outputs": [
    {
     "name": "stdout",
     "output_type": "stream",
     "text": [
      "Sum of items in list is 103\n"
     ]
    }
   ],
   "source": [
    "val_list=[]\n",
    "\n",
    "test_dict = {'A': [5, 6, 7, 8],\n",
    "             'B': [10, 11, 7, 5],\n",
    "             'C': [6, 12, 10, 8],\n",
    "             'D': [1, 2, 5]}\n",
    "\n",
    "for values in test_dict.values():\n",
    "    for element in values:\n",
    "      val_list.append(element)\n",
    "\n",
    "sum = 0\n",
    "for i in val_list:\n",
    "    sum = sum+i\n",
    "\n",
    "print('Sum of items in list is',sum)"
   ]
  },
  {
   "cell_type": "markdown",
   "id": "edfbc682",
   "metadata": {},
   "source": [
    "### 3. Write a Python program to Merging two Dictionaries?"
   ]
  },
  {
   "cell_type": "code",
   "execution_count": 3,
   "id": "fb06a138-490e-466f-ba7c-3b8e3b612074",
   "metadata": {},
   "outputs": [
    {
     "name": "stdout",
     "output_type": "stream",
     "text": [
      "{'d': 6, 'c': 4, 'a': 10, 'b': 8}\n"
     ]
    }
   ],
   "source": [
    "def Merge(dict1, dict2):\n",
    "\treturn(dict2.update(dict1))\n",
    "\n",
    "\n",
    "dict1 = {'a': 10, 'b': 8}\n",
    "dict2 = {'d': 6, 'c': 4}\n",
    "\n",
    "Merge(dict1, dict2)\n",
    "\n",
    "print(dict2)"
   ]
  },
  {
   "cell_type": "markdown",
   "id": "62eaf687",
   "metadata": {},
   "source": [
    "### 4. Write a Python program to convert key-values list to flat dictionary?"
   ]
  },
  {
   "cell_type": "code",
   "execution_count": 4,
   "id": "91195cfc-b352-44d8-a7a1-7c3f71587670",
   "metadata": {},
   "outputs": [
    {
     "name": "stdout",
     "output_type": "stream",
     "text": [
      "Flattened dictionary :  {1: 'Jan', 2: 'Feb', 3: 'March'}\n"
     ]
    }
   ],
   "source": [
    "test_dict = {'month' : [1, 2, 3],\n",
    "            'name' : ['Jan', 'Feb', 'March']}\n",
    "\n",
    "flat_dict = { }\n",
    "\n",
    "x=list(test_dict.values())\n",
    "a=x[0];a\n",
    "b=x[1]\n",
    "\n",
    "for i in range(0,len(a)):\n",
    "    flat_dict[a[i]]=b[i]\n",
    "\n",
    "print(\"Flattened dictionary : \" ,flat_dict)"
   ]
  },
  {
   "cell_type": "markdown",
   "id": "fcc5015f",
   "metadata": {},
   "source": [
    "### 5. Write a Python program to insertion at the beginning in OrderedDict?"
   ]
  },
  {
   "cell_type": "code",
   "execution_count": 5,
   "id": "a93a37dc-6129-475b-a74f-c1d5c8afecdd",
   "metadata": {},
   "outputs": [
    {
     "name": "stdout",
     "output_type": "stream",
     "text": [
      "Resultant Dictionary :  OrderedDict([('manjeet', '3'), ('akshat', '1'), ('nikhil', '2')])\n"
     ]
    }
   ],
   "source": [
    "from collections import OrderedDict\n",
    "\n",
    "ordered_dict = OrderedDict([('akshat', '1'), ('nikhil', '2')])\n",
    "\n",
    "ordered_dict.update({'manjeet': '3'})\n",
    "ordered_dict.move_to_end('manjeet', last=False)\n",
    "\n",
    "# Printing result\n",
    "print(\"Resultant Dictionary : \",ordered_dict)"
   ]
  },
  {
   "cell_type": "markdown",
   "id": "5978c9ab",
   "metadata": {},
   "source": [
    "### 6. Write a Python program to check order of character in string using OrderedDict()?"
   ]
  },
  {
   "cell_type": "code",
   "execution_count": 7,
   "id": "f49bd896-d2af-4cc9-944f-9c8be53b1110",
   "metadata": {},
   "outputs": [
    {
     "name": "stdout",
     "output_type": "stream",
     "text": [
      "The given string is:  This is FSDA\n",
      "The given pattern is:  IN\n",
      "--------------------------------------\n",
      "The order of pattern is incorrect\n"
     ]
    }
   ],
   "source": [
    "from collections import OrderedDict\n",
    "\n",
    "def check_order(my_input, my_pattern):\n",
    "   my_dict = OrderedDict.fromkeys(my_input)\n",
    "   pattern_length = 0\n",
    "   for key,value in my_dict.items():\n",
    "      if (key == my_pattern[pattern_length]):\n",
    "         pattern_length = pattern_length + 1\n",
    "\n",
    "      if (pattern_length == (len(my_pattern))):\n",
    "         return 'The order of pattern is correct'\n",
    "\n",
    "   return 'The order of pattern is incorrect'\n",
    "\n",
    "my_input = 'This is FSDA'\n",
    "input_pattern = 'IN'\n",
    "print(\"The given string is: \",my_input)\n",
    "print(\"The given pattern is: \",input_pattern)\n",
    "print('--------------------------------------')\n",
    "print(check_order(my_input,input_pattern))"
   ]
  },
  {
   "cell_type": "markdown",
   "id": "f330da77",
   "metadata": {},
   "source": [
    "### 7. Write a Python program to sort Python Dictionaries by Key or Value?"
   ]
  },
  {
   "cell_type": "code",
   "execution_count": 8,
   "id": "d975b931-7dee-44f0-8f15-8882bb10d188",
   "metadata": {},
   "outputs": [
    {
     "name": "stdout",
     "output_type": "stream",
     "text": [
      "{'C++': 16, 'DSA': 6, 'FSDA': 12, 'JAVA': 11, 'MERN': 9}\n"
     ]
    }
   ],
   "source": [
    "myDict = {'FSDA': 12, 'MERN': 9,\n",
    "\t\t'JAVA': 11, 'DSA': 6, 'C++': 16}\n",
    "\n",
    "myKeys = list(myDict.keys())\n",
    "myKeys.sort()\n",
    "sorted_dict = {i: myDict[i] for i in myKeys}\n",
    "\n",
    "print(sorted_dict)"
   ]
  }
 ],
 "metadata": {
  "kernelspec": {
   "display_name": "Python 3 (ipykernel)",
   "language": "python",
   "name": "python3"
  },
  "language_info": {
   "codemirror_mode": {
    "name": "ipython",
    "version": 3
   },
   "file_extension": ".py",
   "mimetype": "text/x-python",
   "name": "python",
   "nbconvert_exporter": "python",
   "pygments_lexer": "ipython3",
   "version": "3.10.8"
  }
 },
 "nbformat": 4,
 "nbformat_minor": 5
}
