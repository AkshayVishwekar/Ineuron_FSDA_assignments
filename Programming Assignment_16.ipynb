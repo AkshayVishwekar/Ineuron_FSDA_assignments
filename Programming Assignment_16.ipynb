{
 "cells": [
  {
   "cell_type": "markdown",
   "id": "e304dc88",
   "metadata": {},
   "source": [
    "## Python Basic Programming Assignment 16\n",
    "---------------------"
   ]
  },
  {
   "cell_type": "markdown",
   "id": "d82eeee0",
   "metadata": {},
   "source": [
    "### 1. Write a function that stutters a word as if someone is struggling to read it. The first two letters are repeated twice with an ellipsis ... and space after each, and then the word is pronounced with a question mark ?. Examples stutter('incredible') ➞ 'in... in... incredible?' stutter('enthusiastic') ➞ 'en... en... enthusiastic?' stutter('outstanding') ➞ 'ou... ou... outstanding?'\n",
    "\n",
    "### Hint :- Assume all input is in lower case and at least two characters long."
   ]
  },
  {
   "cell_type": "code",
   "execution_count": 2,
   "id": "f7baecb5-24a4-4fff-87e5-61f38e9bb02a",
   "metadata": {},
   "outputs": [
    {
     "name": "stdin",
     "output_type": "stream",
     "text": [
      "Enter a word:  Amazing\n"
     ]
    },
    {
     "name": "stdout",
     "output_type": "stream",
     "text": [
      "Am...Am...Amazing\n"
     ]
    }
   ],
   "source": [
    "word = input('Enter a word: ')\n",
    "\n",
    "if len(word)<2:\n",
    "    print('String shoudld be at least two characters long ')\n",
    "else:\n",
    "    print (word[:2]+'...'+word[:2]+'...'+word)"
   ]
  },
  {
   "cell_type": "markdown",
   "id": "47e1bd41",
   "metadata": {},
   "source": [
    "\n",
    "### 2. Create a function that takes an angle in radians and returns the corresponding angle in degrees rounded to one decimal place."
   ]
  },
  {
   "cell_type": "code",
   "execution_count": 3,
   "id": "e34e2b63-2be0-4f0a-82f8-964184d035aa",
   "metadata": {},
   "outputs": [
    {
     "name": "stdin",
     "output_type": "stream",
     "text": [
      "Enter angle in radian: 90\n"
     ]
    },
    {
     "name": "stdout",
     "output_type": "stream",
     "text": [
      "90.0 radian to angle is 1.57\n"
     ]
    }
   ],
   "source": [
    "radian = float(input('Enter angle in radian:'))\n",
    "\n",
    "import math \n",
    "angle = (radian*3.14)/180\n",
    "\n",
    "print(f'{radian } radian to angle is {angle}')"
   ]
  },
  {
   "cell_type": "markdown",
   "id": "07cad4d9",
   "metadata": {},
   "source": [
    "\n",
    "### 3. In this challenge, establish if a given integer num is a Curzon number. If 1 plus 2 elevated to num is exactly divisible by 1 plus 2 multiplied by num, then num is a Curzon number. Given a non-negative integer num, implement a function that returns True if num is a Curzon number, or False otherwise."
   ]
  },
  {
   "cell_type": "code",
   "execution_count": 4,
   "id": "7c5a8aae-b5a5-4f38-99fd-359596f953d0",
   "metadata": {},
   "outputs": [
    {
     "name": "stdin",
     "output_type": "stream",
     "text": [
      "Enter a number:  51\n"
     ]
    },
    {
     "name": "stdout",
     "output_type": "stream",
     "text": [
      "Given number is not Curzon number\n"
     ]
    }
   ],
   "source": [
    "num = int(input('Enter a number: '))\n",
    "\n",
    "if ((2**num)+1)%(2*num+1) == 0:\n",
    "    print('Given number is Curzon number')\n",
    "else:\n",
    "    print('Given number is not Curzon number')"
   ]
  },
  {
   "cell_type": "markdown",
   "id": "cfad2cfc",
   "metadata": {},
   "source": [
    "\n",
    "### 4. Given the side length x find the area of a hexagon."
   ]
  },
  {
   "cell_type": "code",
   "execution_count": 5,
   "id": "68846c40-7123-4335-801f-9619e11e35cd",
   "metadata": {},
   "outputs": [
    {
     "name": "stdin",
     "output_type": "stream",
     "text": [
      "Enter length of hexagon: 22\n"
     ]
    },
    {
     "name": "stdout",
     "output_type": "stream",
     "text": [
      "Area of Hexagon is  1257.468886295005\n"
     ]
    }
   ],
   "source": [
    "side = int(input('Enter length of hexagon:'))\n",
    "\n",
    "import math\n",
    "area = (3*math.sqrt(3)*(side**2))/2\n",
    "\n",
    "print('Area of Hexagon is ',area)"
   ]
  },
  {
   "cell_type": "markdown",
   "id": "dbc79e02",
   "metadata": {},
   "source": [
    "\n",
    "### 5. Create a function that returns a base-2 (binary) representation of a base-10 (decimal) string number. To convert is simple: ((2) means base-2 and (10) means base-10) 010101001(2) = 1 + 8 + 32 + 128."
   ]
  },
  {
   "cell_type": "code",
   "execution_count": 6,
   "id": "5f50b24c-57d6-4caa-9f7a-0571f17eb357",
   "metadata": {},
   "outputs": [
    {
     "name": "stdin",
     "output_type": "stream",
     "text": [
      "Enter a decimal number:  22\n"
     ]
    },
    {
     "name": "stdout",
     "output_type": "stream",
     "text": [
      "The binary representation of 22 is: 10110\n"
     ]
    }
   ],
   "source": [
    "def decimal_to_binary(decimal_str):\n",
    "    try:\n",
    "        decimal_number = int(decimal_str)\n",
    "        binary_representation = bin(decimal_number)[2:]\n",
    "        return binary_representation\n",
    "    except ValueError:\n",
    "        return \"Invalid input. Please enter a valid decimal number.\"\n",
    "\n",
    "decimal_input = input(\"Enter a decimal number: \")\n",
    "binary_result = decimal_to_binary(decimal_input)\n",
    "\n",
    "print(f\"The binary representation of {decimal_input} is: {binary_result}\")"
   ]
  }
 ],
 "metadata": {
  "kernelspec": {
   "display_name": "Python 3 (ipykernel)",
   "language": "python",
   "name": "python3"
  },
  "language_info": {
   "codemirror_mode": {
    "name": "ipython",
    "version": 3
   },
   "file_extension": ".py",
   "mimetype": "text/x-python",
   "name": "python",
   "nbconvert_exporter": "python",
   "pygments_lexer": "ipython3",
   "version": "3.10.8"
  }
 },
 "nbformat": 4,
 "nbformat_minor": 5
}
