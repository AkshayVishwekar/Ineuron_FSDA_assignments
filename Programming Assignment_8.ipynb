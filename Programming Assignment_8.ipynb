{
 "cells": [
  {
   "cell_type": "markdown",
   "id": "9b304197",
   "metadata": {},
   "source": [
    "# Python Basic Programming Assignment 8"
   ]
  },
  {
   "cell_type": "markdown",
   "id": "22789ae6",
   "metadata": {},
   "source": [
    "### 1. Write a Python Program to Add Two Matrices?"
   ]
  },
  {
   "cell_type": "code",
   "execution_count": 1,
   "id": "9cb52ec8-25d8-4b63-8ec2-47e80fdcc828",
   "metadata": {},
   "outputs": [
    {
     "name": "stdout",
     "output_type": "stream",
     "text": [
      "[11, 10, 5]\n",
      "[11, 14, 10]\n",
      "[10, 14, 6]\n"
     ]
    }
   ],
   "source": [
    "a = [[2,2,3],\n",
    "    [4 ,9,6],\n",
    "    [7 ,8,5]]\n",
    "  \n",
    "b = [[9,8,2],\n",
    "    [7,5,4],\n",
    "    [3,6,1]]\n",
    "\n",
    "result = [[0,0,0],\n",
    "        [0,0,0],\n",
    "        [0,0,0]]\n",
    " \n",
    "for i in range(len(a)):\n",
    "    for j in range(len(b)):\n",
    "        result[i][j] = a[i][j] + b[i][j]\n",
    "\n",
    "for r in result:\n",
    "    print(r) "
   ]
  },
  {
   "cell_type": "markdown",
   "id": "044ceda6",
   "metadata": {},
   "source": [
    "### 2. Write a Python Program to Multiply Two Matrices?"
   ]
  },
  {
   "cell_type": "code",
   "execution_count": 3,
   "id": "66ae6e59-c4c0-415f-a427-2bac8d8fab33",
   "metadata": {},
   "outputs": [
    {
     "name": "stdout",
     "output_type": "stream",
     "text": [
      "[41 44 15]\n",
      "[117 113  50]\n",
      "[134 126  51]\n"
     ]
    }
   ],
   "source": [
    "import numpy as np\n",
    "a = [[2,2,3],\n",
    "    [4 ,9,6],\n",
    "    [7 ,8,5]]\n",
    "  \n",
    "b = [[9,8,2],\n",
    "    [7,5,4],\n",
    "    [3,6,1]]\n",
    "\n",
    "result = [[0,0,0],\n",
    "        [0,0,0],\n",
    "        [0,0,0]]\n",
    " \n",
    "result = np.dot(a,b)\n",
    "\n",
    "for r in result:\n",
    "    print(r) "
   ]
  },
  {
   "cell_type": "markdown",
   "id": "5f688e46",
   "metadata": {},
   "source": [
    "### 3. Write a Python Program to Transpose a Matrix?"
   ]
  },
  {
   "cell_type": "code",
   "execution_count": 4,
   "id": "9c80da92-d1a8-4e47-8b8e-f78d3f4d26e8",
   "metadata": {},
   "outputs": [
    {
     "data": {
      "text/plain": [
       "array([[1, 3, 1],\n",
       "       [2, 4, 2],\n",
       "       [6, 8, 3]])"
      ]
     },
     "execution_count": 4,
     "metadata": {},
     "output_type": "execute_result"
    }
   ],
   "source": [
    "a=np.array([[1,2,6],\n",
    "            [3,4,8],\n",
    "            [1,2,3]])\n",
    "a.transpose()"
   ]
  },
  {
   "cell_type": "markdown",
   "id": "b2849025",
   "metadata": {},
   "source": [
    "\n",
    "### 4. Write a Python Program to Sort Words in Alphabetic Order?\n"
   ]
  },
  {
   "cell_type": "code",
   "execution_count": 6,
   "id": "f936eb62-7997-4b78-86e2-7f40884970cf",
   "metadata": {},
   "outputs": [
    {
     "name": "stdout",
     "output_type": "stream",
     "text": [
      "The sorted words are: \n",
      "fsda\n",
      "ineuron\n",
      "is\n",
      "this\n"
     ]
    }
   ],
   "source": [
    "my_str = \"This is Ineuron FSDA\"\n",
    "\n",
    "words=[word.lower() for word in my_str.split()]\n",
    "words.sort()\n",
    "\n",
    "print(\"The sorted words are: \")\n",
    "for word in words:\n",
    "    print(word)"
   ]
  },
  {
   "cell_type": "markdown",
   "id": "48ac7b24",
   "metadata": {},
   "source": [
    "### 5. Write a Python Program to Remove Punctuation From a String?"
   ]
  },
  {
   "cell_type": "code",
   "execution_count": 8,
   "id": "44315cdb-9a92-4656-9d3f-510d3e8d4991",
   "metadata": {},
   "outputs": [
    {
     "name": "stdout",
     "output_type": "stream",
     "text": [
      "Hello course isfsda\n"
     ]
    }
   ],
   "source": [
    "punctuations='''!()-[]{};:'\"\\,<>./?@#$%^&*_~'''\n",
    "my_str = \"Hello!! course is***fsda***\"\n",
    "no_punct=\"\"\n",
    "for char in my_str:\n",
    "    if char not in punctuations:\n",
    "        no_punct = no_punct + char\n",
    "print(no_punct)    "
   ]
  }
 ],
 "metadata": {
  "kernelspec": {
   "display_name": "Python 3 (ipykernel)",
   "language": "python",
   "name": "python3"
  },
  "language_info": {
   "codemirror_mode": {
    "name": "ipython",
    "version": 3
   },
   "file_extension": ".py",
   "mimetype": "text/x-python",
   "name": "python",
   "nbconvert_exporter": "python",
   "pygments_lexer": "ipython3",
   "version": "3.10.8"
  }
 },
 "nbformat": 4,
 "nbformat_minor": 5
}
