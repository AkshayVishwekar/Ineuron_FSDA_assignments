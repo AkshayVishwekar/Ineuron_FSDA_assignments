{
 "cells": [
  {
   "cell_type": "markdown",
   "id": "53c7e882",
   "metadata": {},
   "source": [
    "# Python Basic Programming Assignment 11\n",
    "--------------------"
   ]
  },
  {
   "cell_type": "markdown",
   "id": "051da140",
   "metadata": {},
   "source": [
    "### 1. Write a Python program to find words which are greater than given length k?"
   ]
  },
  {
   "cell_type": "code",
   "execution_count": 1,
   "id": "2a223943-ef51-42fb-9ad6-f6f89dffd99d",
   "metadata": {},
   "outputs": [
    {
     "name": "stdin",
     "output_type": "stream",
     "text": [
      "Enter length :  5\n"
     ]
    },
    {
     "name": "stdout",
     "output_type": "stream",
     "text": [
      "--------------------------------------------\n",
      "Akshay\n",
      "Ineuron\n",
      "Course\n"
     ]
    }
   ],
   "source": [
    "num = int(input('Enter length : '))\n",
    "print('--------------------------------------------')\n",
    "words_list = ['Akshay','FSDA','Ineuron','Course']\n",
    "for words in words_list:\n",
    "    if len(words)>num:\n",
    "        print(words)"
   ]
  },
  {
   "cell_type": "markdown",
   "id": "26719cbd",
   "metadata": {},
   "source": [
    "### 2. Write a Python program for removing i-th character from a string?"
   ]
  },
  {
   "cell_type": "code",
   "execution_count": 3,
   "id": "1560b3f3-b3ad-491c-ba72-35dde412df14",
   "metadata": {},
   "outputs": [
    {
     "data": {
      "text/plain": [
       "'Akhay'"
      ]
     },
     "execution_count": 3,
     "metadata": {},
     "output_type": "execute_result"
    }
   ],
   "source": [
    "def remove1(string, i): \n",
    "    a = string[: i-1] \n",
    "    b = string[i:] \n",
    "    return a + b \n",
    "\n",
    "remove1('Akshay',3)"
   ]
  },
  {
   "cell_type": "markdown",
   "id": "51ae6b0f",
   "metadata": {},
   "source": [
    "### 3. Write a Python program to split and join a string?"
   ]
  },
  {
   "cell_type": "code",
   "execution_count": 4,
   "id": "904031d4-b770-4e1f-a0b3-127d89a78f99",
   "metadata": {},
   "outputs": [
    {
     "name": "stdout",
     "output_type": "stream",
     "text": [
      "['FSDA', 'FSDS', 'MERN', 'JAVA', 'DSA']\n",
      "FSDA, FSDS, MERN, JAVA, DSA\n"
     ]
    }
   ],
   "source": [
    "my_string = \"FSDA,FSDS,MERN,JAVA,DSA\"\n",
    "my_list = my_string.split(\",\")\n",
    "print(my_list)\n",
    "print(\", \".join(my_list))"
   ]
  },
  {
   "cell_type": "markdown",
   "id": "59079fe1",
   "metadata": {},
   "source": [
    "### 4. Write a Python to check if a given string is binary string or not?"
   ]
  },
  {
   "cell_type": "code",
   "execution_count": 5,
   "id": "30e9399c-75a1-4d78-ad7c-80b171f6dd12",
   "metadata": {},
   "outputs": [
    {
     "name": "stdout",
     "output_type": "stream",
     "text": [
      "String is not binary\n",
      "String is binary\n"
     ]
    }
   ],
   "source": [
    "def binary(my_string):\n",
    "    p = set(my_string)\n",
    "    s = {'0','1'}\n",
    "    if (p == s) or (p == {0}) or (p == {1}) :\n",
    "        return 'String is binary'\n",
    "    else:\n",
    "        return 'String is not binary'\n",
    "        \n",
    "str1 = binary('Akshay')\n",
    "str2 = binary('0100010')\n",
    "print(str1)\n",
    "print(str2)"
   ]
  },
  {
   "cell_type": "markdown",
   "id": "4d6cf11a",
   "metadata": {},
   "source": [
    "### 5. Write a Python program to find uncommon words from two Strings?"
   ]
  },
  {
   "cell_type": "code",
   "execution_count": 7,
   "id": "58e4c5b8-23ed-4b48-8f28-c640fef46665",
   "metadata": {},
   "outputs": [
    {
     "name": "stdout",
     "output_type": "stream",
     "text": [
      "{'i', 'y', 'A', 'V', 'e', 'w', 'r'}\n"
     ]
    }
   ],
   "source": [
    "set1 = set('Akshay')\n",
    "set2 = set('Vishwekar')\n",
    "print(set1.symmetric_difference(set2))"
   ]
  },
  {
   "cell_type": "markdown",
   "id": "e2b24677",
   "metadata": {},
   "source": [
    "### 6. Write a Python to find all duplicate characters in string?"
   ]
  },
  {
   "cell_type": "code",
   "execution_count": 8,
   "id": "cf366d73-0bb8-4be0-a686-200c8ea75da2",
   "metadata": {},
   "outputs": [
    {
     "name": "stdout",
     "output_type": "stream",
     "text": [
      "Duplicate characters: ['l', 'o']\n"
     ]
    }
   ],
   "source": [
    "def find_duplicate_characters(input_string):\n",
    "    char_frequency = {}\n",
    "\n",
    "    for char in input_string:\n",
    "        if char in char_frequency:\n",
    "            char_frequency[char] += 1\n",
    "        else:\n",
    "            char_frequency[char] = 1\n",
    "\n",
    "    duplicates = [char for char, freq in char_frequency.items() if freq > 1]\n",
    "\n",
    "    return duplicates\n",
    "\n",
    "input_str = \"Hello World\"\n",
    "result = find_duplicate_characters(input_str)\n",
    "\n",
    "print(\"Duplicate characters:\", result)"
   ]
  },
  {
   "cell_type": "markdown",
   "id": "1a6af7e4",
   "metadata": {},
   "source": [
    "### 7. Write a Python Program to check if a string contains any special character?"
   ]
  },
  {
   "cell_type": "code",
   "execution_count": 11,
   "id": "e132f300-66a6-411e-b98c-3fca5e2097fa",
   "metadata": {},
   "outputs": [
    {
     "name": "stdout",
     "output_type": "stream",
     "text": [
      "String does not contains special character\n",
      "String contains special character\n"
     ]
    }
   ],
   "source": [
    "def special_char(my_string):\n",
    "    for char in my_string:\n",
    "        if char in '!@#$%&*':\n",
    "            return 'String contains special character'\n",
    "    else:\n",
    "        return 'String does not contains special character' \n",
    "\n",
    "str1 = special_char('Akshay')\n",
    "str2 = special_char('Vish@1122')\n",
    "print(str1)\n",
    "print(str2)"
   ]
  }
 ],
 "metadata": {
  "kernelspec": {
   "display_name": "Python 3 (ipykernel)",
   "language": "python",
   "name": "python3"
  },
  "language_info": {
   "codemirror_mode": {
    "name": "ipython",
    "version": 3
   },
   "file_extension": ".py",
   "mimetype": "text/x-python",
   "name": "python",
   "nbconvert_exporter": "python",
   "pygments_lexer": "ipython3",
   "version": "3.10.8"
  }
 },
 "nbformat": 4,
 "nbformat_minor": 5
}
