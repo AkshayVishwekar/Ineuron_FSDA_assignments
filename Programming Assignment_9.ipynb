{
 "cells": [
  {
   "cell_type": "markdown",
   "id": "47b9bb99",
   "metadata": {},
   "source": [
    "## Programming Assignment_9\n",
    "----------------"
   ]
  },
  {
   "cell_type": "markdown",
   "id": "c725f7a9",
   "metadata": {},
   "source": [
    "### 1. Write a Python program to check if the given number is a Disarium Number?"
   ]
  },
  {
   "cell_type": "code",
   "execution_count": 1,
   "id": "47802607-4094-4df8-a102-24e63dc08b28",
   "metadata": {},
   "outputs": [
    {
     "name": "stdin",
     "output_type": "stream",
     "text": [
      "Give the number 156\n"
     ]
    },
    {
     "name": "stdout",
     "output_type": "stream",
     "text": [
      "156 is not a Disarium number\n"
     ]
    }
   ],
   "source": [
    "def disarium(number):\n",
    "    num_str = str(number)\n",
    "    sum_disarium = sum(int(digit)**(index + 1) for index, digit in enumerate(num_str))\n",
    "    return sum_disarium == number\n",
    "input_number = int(input(\"Give the number\"))\n",
    "if disarium(input_number):\n",
    "    print(f\"{input_number} is a Disarium number\")\n",
    "else:\n",
    "    print(f\"{input_number} is not a Disarium number\")"
   ]
  },
  {
   "cell_type": "markdown",
   "id": "f0064401",
   "metadata": {},
   "source": [
    "### 2. Write a Python program to print all disarium numbers between 1 to 100?"
   ]
  },
  {
   "cell_type": "code",
   "execution_count": 2,
   "id": "d17ebe4a-ed62-4203-855a-2aa86716e4d6",
   "metadata": {},
   "outputs": [
    {
     "name": "stdout",
     "output_type": "stream",
     "text": [
      "Disarium numbers between 1 anbd 100: \n",
      "1\n",
      "2\n",
      "3\n",
      "4\n",
      "5\n",
      "6\n",
      "7\n",
      "8\n",
      "9\n",
      "89\n"
     ]
    }
   ],
   "source": [
    "def disarium(number):\n",
    "    num_str = str(number)\n",
    "    sum_disarium = sum(int(digit)**(index + 1) for index, digit in enumerate(num_str))\n",
    "    return sum_disarium == number\n",
    "    \n",
    "print(\"Disarium numbers between 1 anbd 100: \")\n",
    "for i in range(1, 101):\n",
    "    if disarium(i):\n",
    "        print(i)"
   ]
  },
  {
   "cell_type": "markdown",
   "id": "31df1e4a",
   "metadata": {},
   "source": [
    "### 3. Write a Python program to check if the given number is Happy Number?"
   ]
  },
  {
   "cell_type": "code",
   "execution_count": 3,
   "id": "8f588a35-728d-4e3c-98c4-c8ed94fe7cb4",
   "metadata": {},
   "outputs": [
    {
     "name": "stdin",
     "output_type": "stream",
     "text": [
      "Give the number 22\n"
     ]
    },
    {
     "name": "stdout",
     "output_type": "stream",
     "text": [
      "22 is not a Happy number\n"
     ]
    }
   ],
   "source": [
    "def happy_number(n):\n",
    "    while len(str(n)) > 1:\n",
    "        n = sum(int(x)**2 for x in str(n))\n",
    "    return n == 1\n",
    "input_number = int(input(\"Give the number\"))\n",
    "if happy_number(input_number):\n",
    "    print(f\"{input_number} is a Happy number\")\n",
    "else:\n",
    "    print(f\"{input_number} is not a Happy number\")    "
   ]
  },
  {
   "cell_type": "markdown",
   "id": "51b265e3",
   "metadata": {},
   "source": [
    "### 4. Write a Python program to print all happy numbers between 1 and 100?"
   ]
  },
  {
   "cell_type": "code",
   "execution_count": 4,
   "id": "5c8813c3-7be3-4c2e-95b5-b611b9006bc4",
   "metadata": {},
   "outputs": [
    {
     "name": "stdout",
     "output_type": "stream",
     "text": [
      "The list of happy numbers between 1 and 100 are : \n",
      "1\n",
      "7\n",
      "10\n",
      "13\n",
      "19\n",
      "23\n",
      "28\n",
      "31\n",
      "32\n",
      "44\n",
      "49\n",
      "68\n",
      "70\n",
      "79\n",
      "82\n",
      "86\n",
      "91\n",
      "94\n",
      "97\n",
      "100\n"
     ]
    }
   ],
   "source": [
    "def happy_num_1_100(num):\n",
    "   remaining = sum_val = 0\n",
    "   while(num > 0):\n",
    "      remaining = num%10\n",
    "      sum_val = sum_val + (remaining*remaining)\n",
    "      num = num//10\n",
    "   return sum_val\n",
    "print(\"The list of happy numbers between 1 and 100 are : \")\n",
    "for i in range(1, 101):\n",
    "   my_result = i\n",
    "   while(my_result != 1 and my_result != 4):\n",
    "      my_result = happy_num_1_100(my_result)\n",
    "   if(my_result == 1):\n",
    "      print(i)"
   ]
  },
  {
   "cell_type": "markdown",
   "id": "6a190ee0",
   "metadata": {},
   "source": [
    "### 5. Write a Python program to determine whether the given number is a Harshad Number?"
   ]
  },
  {
   "cell_type": "code",
   "execution_count": 5,
   "id": "39de91bf-fb95-4619-ab63-c47babc26289",
   "metadata": {},
   "outputs": [
    {
     "name": "stdin",
     "output_type": "stream",
     "text": [
      "Give the number 52\n"
     ]
    },
    {
     "name": "stdout",
     "output_type": "stream",
     "text": [
      "52 is not a Harshad number\n"
     ]
    }
   ],
   "source": [
    "def harshad_number(n):\n",
    "    num=str(n)\n",
    "    sum_n = sum(int(x) for x in str(n))\n",
    "    return (n%sum_n) == 0\n",
    "input_number = int(input(\"Give the number\"))\n",
    "if harshad_number(input_number):\n",
    "    print(f\"{input_number} is a Harshad number\")\n",
    "else:\n",
    "    print(f\"{input_number} is not a Harshad number\")   "
   ]
  },
  {
   "cell_type": "markdown",
   "id": "7a7ea92e",
   "metadata": {},
   "source": [
    "### 6. Write a Python program to print all pronic numbers between 1 and 100?"
   ]
  },
  {
   "cell_type": "code",
   "execution_count": 6,
   "id": "3a458b7d-bebb-49f5-b6ed-ff19bcf47879",
   "metadata": {},
   "outputs": [
    {
     "name": "stdout",
     "output_type": "stream",
     "text": [
      "2 6 12 20 30 42 56 72 90 "
     ]
    }
   ],
   "source": [
    "def pronic_number(number):\n",
    "    for i in range(1, int(number**0.5) + 2):\n",
    "        if i * (i + 1) == number:\n",
    "            return True\n",
    "    return False\n",
    "\n",
    "def print_pronic_numbers(limit):\n",
    "    for num in range(1, limit + 1):\n",
    "        if pronic_number(num):\n",
    "            print(num, end=' ')\n",
    "\n",
    "print_pronic_numbers(100)"
   ]
  }
 ],
 "metadata": {
  "kernelspec": {
   "display_name": "Python 3 (ipykernel)",
   "language": "python",
   "name": "python3"
  },
  "language_info": {
   "codemirror_mode": {
    "name": "ipython",
    "version": 3
   },
   "file_extension": ".py",
   "mimetype": "text/x-python",
   "name": "python",
   "nbconvert_exporter": "python",
   "pygments_lexer": "ipython3",
   "version": "3.10.8"
  }
 },
 "nbformat": 4,
 "nbformat_minor": 5
}
